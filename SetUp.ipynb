{
 "cells": [
  {
   "cell_type": "markdown",
   "metadata": {},
   "source": [
    "# Orbit Calibration Set Up  \n",
    "This notebook will download the relevant data from space-track from the sp3 files that you provide. This will be then stored in the rawdata folder that can then be used for the calibration analysis. "
   ]
  },
  {
   "cell_type": "code",
   "execution_count": 1,
   "metadata": {},
   "outputs": [
    {
     "ename": "ModuleNotFoundError",
     "evalue": "No module named 'sp3'",
     "output_type": "error",
     "traceback": [
      "\u001b[1;31m---------------------------------------------------------------------------\u001b[0m",
      "\u001b[1;31mModuleNotFoundError\u001b[0m                       Traceback (most recent call last)",
      "\u001b[1;32mD:\\TMP\\ipykernel_22712\\2794454454.py\u001b[0m in \u001b[0;36m<module>\u001b[1;34m\u001b[0m\n\u001b[0;32m      1\u001b[0m \u001b[1;32mimport\u001b[0m \u001b[0mos\u001b[0m\u001b[1;33m\u001b[0m\u001b[1;33m\u001b[0m\u001b[0m\n\u001b[1;32m----> 2\u001b[1;33m \u001b[1;32mimport\u001b[0m \u001b[0msp3\u001b[0m\u001b[1;33m\u001b[0m\u001b[1;33m\u001b[0m\u001b[0m\n\u001b[0m",
      "\u001b[1;31mModuleNotFoundError\u001b[0m: No module named 'sp3'"
     ]
    }
   ],
   "source": [
    "import os"
   ]
  },
  {
   "cell_type": "code",
   "execution_count": 5,
   "metadata": {},
   "outputs": [],
   "source": [
    "# manually fill out the folder where your s3 data for grace-fo-1 and grace-fo-2 is stored\n",
    "RawDataFolderName = 'v1'\n",
    "\n",
    "# First check how many files that have the *.sp3 extension, if more than 2 give a warning to the user\n",
    "\n",
    "# get the current working directory\n",
    "cwd = os.getcwd()\n",
    "RawDataFolder = os.path.join(cwd, 'RawData', RawDataFolderName)\n",
    "\n",
    "# get all the files in the RawDataFolder\n",
    "files = os.listdir(RawDataFolder)\n",
    "\n",
    "# check the number with the *.sp3 extension\n",
    "sp3files = [file for file in files if file.endswith('.sp3')]\n",
    "if len(sp3files) != 2:\n",
    "    print('Warning: There are {} files with the *.sp3 extension in the RawData folder. There should be 2.'.format(len(sp3files)))\n",
    "\n",
    "# grace1 is the one that has L64 in the file name\n",
    "grace1Name = [file for file in sp3files if 'L64' in file][0]\n",
    "grace2Name = [file for file in sp3files if 'L65' in file][0]"
   ]
  },
  {
   "cell_type": "code",
   "execution_count": 6,
   "metadata": {},
   "outputs": [
    {
     "data": {
      "text/plain": [
       "'GFZOP_RSO_L64_G_20230924_100000_20230925_000000_v03.sp3'"
      ]
     },
     "execution_count": 6,
     "metadata": {},
     "output_type": "execute_result"
    }
   ],
   "source": []
  }
 ],
 "metadata": {
  "kernelspec": {
   "display_name": "fspsim",
   "language": "python",
   "name": "python3"
  },
  "language_info": {
   "codemirror_mode": {
    "name": "ipython",
    "version": 3
   },
   "file_extension": ".py",
   "mimetype": "text/x-python",
   "name": "python",
   "nbconvert_exporter": "python",
   "pygments_lexer": "ipython3",
   "version": "3.8.16"
  }
 },
 "nbformat": 4,
 "nbformat_minor": 2
}
