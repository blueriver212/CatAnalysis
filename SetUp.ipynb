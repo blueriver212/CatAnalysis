{
 "cells": [
  {
   "cell_type": "markdown",
   "metadata": {},
   "source": [
    "# Orbit Calibration Set Up  \n",
    "This notebook will download the relevant data from space-track from the sp3 files that you provide. This will be then stored in the rawdata folder that can then be used for the calibration analysis. "
   ]
  },
  {
   "cell_type": "code",
   "execution_count": 59,
   "metadata": {},
   "outputs": [],
   "source": [
    "import os\n",
    "import sp3\n",
    "from datetime import datetime, timedelta\n",
    "from dotenv import load_dotenv\n",
    "import requests\n",
    "import json\n",
    "import spacetrack.operators as op\n",
    "from spacetrack import SpaceTrackClient\n",
    "\n",
    "st = SpaceTrackClient(identity='indigo.brownhall.20@ucl.ac.uk', password='Greeningplant123!')"
   ]
  },
  {
   "cell_type": "code",
   "execution_count": 7,
   "metadata": {},
   "outputs": [],
   "source": [
    "# manually fill out the folder where your s3 data for grace-fo-1 and grace-fo-2 is stored\n",
    "RawDataFolderName = 'v1'\n",
    "\n",
    "# get the current working directory\n",
    "cwd = os.getcwd()\n",
    "RawDataFolder = os.path.join(cwd, 'RawData', RawDataFolderName)\n",
    "\n",
    "# get all the files in the RawDataFolder\n",
    "files = os.listdir(RawDataFolder)\n",
    "\n",
    "# check the number with the *.sp3 extension\n",
    "sp3files = [file for file in files if file.endswith('.sp3')]\n",
    "if len(sp3files) != 2:\n",
    "    print('Warning: There are {} files with the *.sp3 extension in the RawData folder. There should be 2.'.format(len(sp3files)))\n",
    "\n",
    "# grace1 is the one that has L64 in the file name\n",
    "grace1Name = [file for file in sp3files if 'L64' in file][0]\n",
    "grace2Name = [file for file in sp3files if 'L65' in file][0]"
   ]
  },
  {
   "cell_type": "code",
   "execution_count": 9,
   "metadata": {},
   "outputs": [],
   "source": [
    "# get the range of dates from the grace1 and grace2 files\n",
    "grace1 = sp3.Product.from_file(os.path.join(RawDataFolder, grace1Name))\n",
    "grace2 = sp3.Product.from_file(os.path.join(RawDataFolder, grace2Name))"
   ]
  },
  {
   "cell_type": "code",
   "execution_count": 12,
   "metadata": {},
   "outputs": [
    {
     "name": "stdout",
     "output_type": "stream",
     "text": [
      "Start date: 2023-09-23 09:59:42+00:00\n",
      "End date: 2023-09-27 00:00:12+00:00\n"
     ]
    }
   ],
   "source": [
    "# Get the smallest start date and the largest end date\n",
    "start_date = min(grace1.satellites[0].records[0].time, grace2.satellites[0].records[0].time)\n",
    "end_date = max(grace1.satellites[0].records[-1].time, grace2.satellites[0].records[-1].time)\n",
    "\n",
    "# add 1 day buffer room\n",
    "start_time_range = start_date - timedelta(days=1) # need some buffer room\n",
    "end_time_range = end_date + timedelta(days=2)\n",
    "\n",
    "print('Start date: {}'.format(start_time_range))\n",
    "print('End date: {}'.format(end_time_range))"
   ]
  },
  {
   "cell_type": "code",
   "execution_count": 73,
   "metadata": {},
   "outputs": [],
   "source": [
    "# need to update the date to take out the time to be dynamic\n",
    "grace1_tle = st.tle(norad_cat_id=43476, epoch='>023-09-23 09:59:42&>2023-09-27 09:59:42',orderby='epoch desc', limit=22, format='json')\n",
    "grace2_tle = st.tle(norad_cat_id=43477, epoch='>023-09-23 09:59:42&>2023-09-27 09:59:42',orderby='epoch desc', limit=22, format='json')\n",
    "\n",
    "# save in the RawData folder with a name of grace-fo-1-tle-43476.json\n",
    "with open(os.path.join(RawDataFolder, 'grace-fo-1-tle-43476.json'), 'w') as f:\n",
    "    f.write(grace1_tle)\n",
    "\n",
    "with open(os.path.join(RawDataFolder, 'grace-fo-2-tle-43477.json'), 'w') as f:\n",
    "    f.write(grace2_tle)"
   ]
  }
 ],
 "metadata": {
  "kernelspec": {
   "display_name": "fspsim",
   "language": "python",
   "name": "python3"
  },
  "language_info": {
   "codemirror_mode": {
    "name": "ipython",
    "version": 3
   },
   "file_extension": ".py",
   "mimetype": "text/x-python",
   "name": "python",
   "nbconvert_exporter": "python",
   "pygments_lexer": "ipython3",
   "version": "3.9.18"
  }
 },
 "nbformat": 4,
 "nbformat_minor": 2
}
