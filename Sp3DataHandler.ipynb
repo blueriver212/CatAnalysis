{
 "cells": [
  {
   "cell_type": "markdown",
   "metadata": {},
   "source": [
    "# SP3 Data Wrangler\n",
    "\n",
    "This code will take the data that is within the sp3 folder in the RawData folder, process it and convert it into an output folder for anlaysis "
   ]
  },
  {
   "cell_type": "code",
   "execution_count": 10,
   "metadata": {},
   "outputs": [],
   "source": [
    "import os\n",
    "import sp3\n",
    "import shutil\n",
    "import gzip"
   ]
  },
  {
   "cell_type": "code",
   "execution_count": 15,
   "metadata": {},
   "outputs": [
    {
     "name": "stdout",
     "output_type": "stream",
     "text": [
      "There are 20 folders\n",
      "Extracting SP3 data from all folders...\n"
     ]
    }
   ],
   "source": [
    "output_folder = 'sp3_test' \n",
    "grace_satellite = 'L65' # 'L65' or 'L64'\n",
    "sp3_raw_data_folder = os.path.join(os.getcwd(), 'RawData', 'sp3', f'{grace_satellite}')\n",
    "specific_folder_numbers = [-1] # include a specific range, or use -1 for all folders\n",
    "\n",
    "# first check that the folder exists\n",
    "if not os.path.isdir(sp3_raw_data_folder):\n",
    "    raise Exception(f'Folder not found: {sp3_raw_data_folder}')\n",
    "\n",
    "if specific_folder_numbers == [-1]:\n",
    "    # get all folders\n",
    "    folders = [f for f in os.listdir(sp3_raw_data_folder) if os.path.isdir(os.path.join(sp3_raw_data_folder, f))]\n",
    "    print('There are {} folders'.format(len(folders)))\n",
    "    print('Extracting SP3 data from all folders...')\n",
    "else: \n",
    "    # extract the specific folders from the range in specific_folder_numbers, i.e [001, 005] would take 001, 002, 003, 004, 005\n",
    "    # need to think of a better way of doing this\n",
    "    folders = [f for f in os.listdir(sp3_raw_data_folder) if os.path.isdir(os.path.join(sp3_raw_data_folder, f))]\n",
    "    folders = [f for f in folders if int(f) in specific_folder_numbers]\n",
    "    print('There are {} folders'.format(len(folders)))\n",
    "    print('Extracting SP3 data from folders {} to {}...'.format(specific_folder_numbers[0], specific_folder_numbers[-1]))"
   ]
  },
  {
   "cell_type": "code",
   "execution_count": 16,
   "metadata": {},
   "outputs": [
    {
     "data": {
      "text/plain": [
       "['001',\n",
       " '002',\n",
       " '003',\n",
       " '004',\n",
       " '005',\n",
       " '006',\n",
       " '007',\n",
       " '008',\n",
       " '009',\n",
       " '010',\n",
       " '011',\n",
       " '012',\n",
       " '013',\n",
       " '014',\n",
       " '015',\n",
       " '016',\n",
       " '017',\n",
       " '018',\n",
       " '019',\n",
       " '020']"
      ]
     },
     "execution_count": 16,
     "metadata": {},
     "output_type": "execute_result"
    }
   ],
   "source": [
    "folders"
   ]
  },
  {
   "cell_type": "code",
   "execution_count": 22,
   "metadata": {},
   "outputs": [
    {
     "name": "stdout",
     "output_type": "stream",
     "text": [
      "File already unzipped: GFZOP_RSO_L65_G_20221231_220000_20230101_120000_v02.sp3\n",
      "File already unzipped: GFZOP_RSO_L65_G_20230101_100000_20230102_000000_v02.sp3\n",
      "File already unzipped: GFZOP_RSO_L65_G_20230101_220000_20230102_120000_v02.sp3\n",
      "File already unzipped: GFZOP_RSO_L65_G_20230102_100000_20230103_000000_v02.sp3\n",
      "File already unzipped: GFZOP_RSO_L65_G_20230102_220000_20230103_120000_v02.sp3\n",
      "File already unzipped: GFZOP_RSO_L65_G_20230103_100000_20230104_000000_v02.sp3\n",
      "File already unzipped: GFZOP_RSO_L65_G_20230103_220000_20230104_120000_v02.sp3\n",
      "File already unzipped: GFZOP_RSO_L65_G_20230104_100000_20230105_000000_v02.sp3\n",
      "File already unzipped: GFZOP_RSO_L65_G_20230104_220000_20230105_120000_v02.sp3\n",
      "File already unzipped: GFZOP_RSO_L65_G_20230105_100000_20230106_000000_v02.sp3\n",
      "File already unzipped: GFZOP_RSO_L65_G_20230105_220000_20230106_120000_v02.sp3\n",
      "File already unzipped: GFZOP_RSO_L65_G_20230106_100000_20230107_000000_v02.sp3\n",
      "File already unzipped: GFZOP_RSO_L65_G_20230106_220000_20230107_120000_v02.sp3\n",
      "File already unzipped: GFZOP_RSO_L65_G_20230107_100000_20230108_000000_v02.sp3\n",
      "File already unzipped: GFZOP_RSO_L65_G_20230107_220000_20230108_120000_v02.sp3\n",
      "File already unzipped: GFZOP_RSO_L65_G_20230108_100000_20230109_000000_v02.sp3\n",
      "File already unzipped: GFZOP_RSO_L65_G_20230108_220000_20230109_120000_v02.sp3\n",
      "File already unzipped: GFZOP_RSO_L65_G_20230109_100000_20230110_000000_v02.sp3\n",
      "File already unzipped: GFZOP_RSO_L65_G_20230109_220000_20230110_120000_v02.sp3\n",
      "File already unzipped: GFZOP_RSO_L65_G_20230110_100000_20230111_000000_v02.sp3\n",
      "File already unzipped: GFZOP_RSO_L65_G_20230110_220000_20230111_120000_v02.sp3\n",
      "File already unzipped: GFZOP_RSO_L65_G_20230111_100000_20230112_000000_v02.sp3\n",
      "File already unzipped: GFZOP_RSO_L65_G_20230111_220000_20230112_120000_v02.sp3\n",
      "File already unzipped: GFZOP_RSO_L65_G_20230112_100000_20230113_000000_v02.sp3\n",
      "File already unzipped: GFZOP_RSO_L65_G_20230112_220000_20230113_120000_v02.sp3\n",
      "File already unzipped: GFZOP_RSO_L65_G_20230113_100000_20230114_000000_v02.sp3\n",
      "File already unzipped: GFZOP_RSO_L65_G_20230113_220000_20230114_120000_v02.sp3\n",
      "File already unzipped: GFZOP_RSO_L65_G_20230114_100000_20230115_000000_v02.sp3\n",
      "File already unzipped: GFZOP_RSO_L65_G_20230114_220000_20230115_120000_v02.sp3\n",
      "File already unzipped: GFZOP_RSO_L65_G_20230115_100000_20230116_000000_v02.sp3\n",
      "File already unzipped: GFZOP_RSO_L65_G_20230115_220000_20230116_120000_v02.sp3\n",
      "File already unzipped: GFZOP_RSO_L65_G_20230116_100000_20230117_000000_v02.sp3\n",
      "File already unzipped: GFZOP_RSO_L65_G_20230116_220000_20230117_120000_v02.sp3\n",
      "File already unzipped: GFZOP_RSO_L65_G_20230117_100000_20230118_000000_v02.sp3\n",
      "File already unzipped: GFZOP_RSO_L65_G_20230117_220000_20230118_120000_v02.sp3\n",
      "File already unzipped: GFZOP_RSO_L65_G_20230118_100000_20230119_000000_v02.sp3\n",
      "File already unzipped: GFZOP_RSO_L65_G_20230118_220000_20230119_120000_v02.sp3\n",
      "File already unzipped: GFZOP_RSO_L65_G_20230119_100000_20230120_000000_v02.sp3\n",
      "File already unzipped: GFZOP_RSO_L65_G_20230119_220000_20230120_120000_v02.sp3\n",
      "File already unzipped: GFZOP_RSO_L65_G_20230120_100000_20230121_000000_v02.sp3\n"
     ]
    }
   ],
   "source": [
    "# as the each file in the folder is zipped, we need to unzip them first\n",
    "for folder in folders:\n",
    "    # Iterate through all files in the current folder\n",
    "    for filename in os.listdir(os.path.join(sp3_raw_data_folder, folder)):\n",
    "        # Check if the file is a .gz file\n",
    "        if filename.endswith('.gz'):\n",
    "            gz_file_path = os.path.join(sp3_raw_data_folder, folder, filename)\n",
    "            output_file_path = os.path.join(sp3_raw_data_folder, folder, filename[:-3])  # Remove '.gz'\n",
    "\n",
    "            # Check if the uncompressed file already exists\n",
    "            if not os.path.exists(output_file_path):\n",
    "                # Unzip the file\n",
    "                with gzip.open(gz_file_path, 'rb') as f_in:\n",
    "                    with open(output_file_path, 'wb') as f_out:\n",
    "                        shutil.copyfileobj(f_in, f_out)\n",
    "                print(f\"Unzipped {filename} in {folder}\")\n",
    "            else:\n",
    "                print(f\"File already unzipped: {filename[:-3]}\")"
   ]
  },
  {
   "cell_type": "code",
   "execution_count": 32,
   "metadata": {},
   "outputs": [
    {
     "name": "stdout",
     "output_type": "stream",
     "text": [
      "Extracting SP3 data from folder 001...\n",
      "Extracting SP3 data from folder 002...\n",
      "Extracting SP3 data from folder 003...\n",
      "Extracting SP3 data from folder 004...\n",
      "Extracting SP3 data from folder 005...\n",
      "Extracting SP3 data from folder 006...\n",
      "Extracting SP3 data from folder 007...\n",
      "Extracting SP3 data from folder 008...\n",
      "Extracting SP3 data from folder 009...\n",
      "Extracting SP3 data from folder 010...\n",
      "Extracting SP3 data from folder 011...\n",
      "Extracting SP3 data from folder 012...\n",
      "Extracting SP3 data from folder 013...\n",
      "Extracting SP3 data from folder 014...\n",
      "Extracting SP3 data from folder 015...\n",
      "Extracting SP3 data from folder 016...\n",
      "Extracting SP3 data from folder 017...\n",
      "Extracting SP3 data from folder 018...\n",
      "Extracting SP3 data from folder 019...\n",
      "Extracting SP3 data from folder 020...\n"
     ]
    }
   ],
   "source": [
    "# extract the data from each folder\n",
    "raw_sp3_data = []\n",
    "for folder in folders:\n",
    "    print('Extracting SP3 data from folder {}...'.format(folder))\n",
    "    for filename in os.listdir(os.path.join(sp3_raw_data_folder, folder)):\n",
    "        if filename.endswith('.sp3'):\n",
    "            sp3_file_path = os.path.join(sp3_raw_data_folder, folder, filename)\n",
    "            temp_sp3_data = sp3.Product.from_file(sp3_file_path)\n",
    "            raw_sp3_data.append(temp_sp3_data.satellites[0].records)\n",
    "\n",
    "# flatten the list of lists\n",
    "raw_sp3_data = [item for sublist in raw_sp3_data for item in sublist]\n",
    "\n",
    "# create a new folder to store the data\n",
    "if not os.path.isdir(os.path.join(os.getcwd(), 'RawData', output_folder)):\n",
    "    os.mkdir(output_folder)\n",
    "\n",
    "# save the list to a csv file\n",
    "output_file_path = os.path.join(os.getcwd(), output_folder, f'{grace_satellite}_sp3_data.csv')\n"
   ]
  },
  {
   "cell_type": "code",
   "execution_count": 36,
   "metadata": {},
   "outputs": [
    {
     "name": "stdout",
     "output_type": "stream",
     "text": [
      "c:\\Users\\IT\\Documents\\UCL\\CatAnalysis\\RawData\\sp3_test\\L65_sp3_data.csv\n"
     ]
    }
   ],
   "source": [
    "output_file_path = os.path.join(os.getcwd(), 'RawData', output_folder, f'{grace_satellite}_sp3_data.csv')\n",
    "print(output_file_path)\n",
    "with open(output_file_path, 'w') as f:\n",
    "    for item in raw_sp3_data:\n",
    "        f.write(\"%s\\n\" % item)"
   ]
  }
 ],
 "metadata": {
  "kernelspec": {
   "display_name": "fspsim",
   "language": "python",
   "name": "python3"
  },
  "language_info": {
   "codemirror_mode": {
    "name": "ipython",
    "version": 3
   },
   "file_extension": ".py",
   "mimetype": "text/x-python",
   "name": "python",
   "nbconvert_exporter": "python",
   "pygments_lexer": "ipython3",
   "version": "3.9.18"
  }
 },
 "nbformat": 4,
 "nbformat_minor": 2
}
